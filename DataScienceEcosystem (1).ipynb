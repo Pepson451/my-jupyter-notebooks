{
 "cells": [
  {
   "cell_type": "markdown",
   "id": "4a24580c-1d6e-43ab-82da-2293fa7fa9e5",
   "metadata": {},
   "source": [
    "# Data Science Tools and Ecosystem\n"
   ]
  },
  {
   "cell_type": "markdown",
   "id": "3f882962-f97a-4140-8fda-91705fc8c38f",
   "metadata": {
    "tags": []
   },
   "source": [
    "In this notebook, Data Science Tools And Ecosystem are summarized."
   ]
  },
  {
   "cell_type": "markdown",
   "id": "3c4e124f-e72a-40c4-bacd-a494c96a0ec8",
   "metadata": {},
   "source": [
    "**Objectives**\n",
    "- List common uses Libraries used by Data Scientists\n",
    "- List of Data Science Tools\n",
    "- How to Write Arithmetic expression in Python"
   ]
  },
  {
   "cell_type": "markdown",
   "id": "a226d4b6-7326-45d7-b68b-ea66e9392c38",
   "metadata": {},
   "source": [
    "Some of the popular languages that Data Scientists use are :\n",
    "1. Python\n",
    "2. R\n",
    "3. SQL"
   ]
  },
  {
   "cell_type": "markdown",
   "id": "4bc2d030-d789-4f0e-b454-c9cc5d9b7927",
   "metadata": {},
   "source": [
    "Some of the commonly uses libraries used by data Scientists include:\n",
    "1. Pandas\n",
    "2. Matplotlib\n",
    "3. Numpy\n"
   ]
  },
  {
   "cell_type": "markdown",
   "id": "32dff4a2-1bad-48a8-b43c-d894239c6dd9",
   "metadata": {},
   "source": [
    "|Data Science Tools|\n",
    "|---|\n",
    "|SAAS|\n",
    "|Apache Hadoop|\n",
    "|TensorFlow|"
   ]
  },
  {
   "cell_type": "markdown",
   "id": "45b5e949-dc20-4d89-aecc-b0f274e76f2d",
   "metadata": {},
   "source": [
    "### Below are a few examples of evaluating arithmetic expressions in Python"
   ]
  },
  {
   "cell_type": "code",
   "execution_count": 2,
   "id": "08a6336b-914f-43b3-b0bf-481a5c6309bc",
   "metadata": {
    "tags": []
   },
   "outputs": [
    {
     "data": {
      "text/plain": [
       "17"
      ]
     },
     "execution_count": 2,
     "metadata": {},
     "output_type": "execute_result"
    }
   ],
   "source": [
    "# This a simple arithmetic expression to mutiply then add integers\n",
    "(3*4)+5\n"
   ]
  },
  {
   "cell_type": "code",
   "execution_count": 4,
   "id": "70ec1a7f-fb12-4c1a-ad20-c5f0b5b49d64",
   "metadata": {
    "tags": []
   },
   "outputs": [
    {
     "data": {
      "text/plain": [
       "3.3333333333333335"
      ]
     },
     "execution_count": 4,
     "metadata": {},
     "output_type": "execute_result"
    }
   ],
   "source": [
    "# This will convert 200 minutes to hours by dividing by 60\n",
    "200 / 60"
   ]
  },
  {
   "cell_type": "markdown",
   "id": "5937f4e9-4373-4753-855b-2290a2726b20",
   "metadata": {},
   "source": [
    "## Author\n",
    "name"
   ]
  },
  {
   "cell_type": "code",
   "execution_count": null,
   "id": "edc9d408-5134-483d-9897-f316dba5033f",
   "metadata": {},
   "outputs": [],
   "source": []
  }
 ],
 "metadata": {
  "kernelspec": {
   "display_name": "Python",
   "language": "python",
   "name": "conda-env-python-py"
  },
  "language_info": {
   "codemirror_mode": {
    "name": "ipython",
    "version": 3
   },
   "file_extension": ".py",
   "mimetype": "text/x-python",
   "name": "python",
   "nbconvert_exporter": "python",
   "pygments_lexer": "ipython3",
   "version": "3.7.12"
  }
 },
 "nbformat": 4,
 "nbformat_minor": 5
}
